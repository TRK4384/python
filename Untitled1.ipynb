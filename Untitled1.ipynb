{
  "nbformat": 4,
  "nbformat_minor": 0,
  "metadata": {
    "colab": {
      "name": "Untitled0.ipynb",
      "provenance": [],
      "collapsed_sections": [],
      "authorship_tag": "ABX9TyMjEUiw2F27rZYZK7T1hV/z",
      "include_colab_link": true
    },
    "kernelspec": {
      "name": "python3",
      "display_name": "Python 3"
    },
    "language_info": {
      "name": "python"
    }
  },
  "cells": [
    {
      "cell_type": "markdown",
      "metadata": {
        "id": "view-in-github",
        "colab_type": "text"
      },
      "source": [
        "<a href=\"https://colab.research.google.com/github/tariktal/python/blob/main/Untitled1.ipynb\" target=\"_parent\"><img src=\"https://colab.research.google.com/assets/colab-badge.svg\" alt=\"Open In Colab\"/></a>"
      ]
    },
    {
      "cell_type": "code",
      "metadata": {
        "id": "E7OlYc4w_YHM",
        "colab": {
          "base_uri": "https://localhost:8080/"
        },
        "outputId": "7f121855-cf60-4352-fdc0-e11bc7c9d4fe"
      },
      "source": [
        "print(\"Hello\", \"how are you?\", sep=\"---\")"
      ],
      "execution_count": null,
      "outputs": [
        {
          "output_type": "stream",
          "text": [
            "Hello---how are you?\n"
          ],
          "name": "stdout"
        }
      ]
    },
    {
      "cell_type": "code",
      "metadata": {
        "id": "dE4BNTCTMz9x",
        "colab": {
          "base_uri": "https://localhost:8080/"
        },
        "outputId": "ec09231c-34d9-4c49-853f-503a67818550"
      },
      "source": [
        "import time \n",
        "items ={'m','l','k','j','i','h','g','f','e','d','c','b','a'}\n",
        "i = 0\n",
        "for item in items:## print(len(items))\n",
        "  i+=1\n",
        "  print('.', end =' ', flush= True)\n",
        "  time.sleep(0.7)\n",
        "print(f\"\\nthere is \\\"{i} items\\\"\")\n"
      ],
      "execution_count": 14,
      "outputs": [
        {
          "output_type": "stream",
          "text": [
            ". . . . . . . . . . . . . \n",
            "there is \"13 items\"\n"
          ],
          "name": "stdout"
        }
      ]
    },
    {
      "cell_type": "code",
      "metadata": {
        "colab": {
          "base_uri": "https://localhost:8080/"
        },
        "id": "tdgftqfk_OAO",
        "outputId": "5f64d0b9-937f-4043-a211-2276e7da6280"
      },
      "source": [
        "phrase = \"Hamid Est Bien\"\n",
        "print (phrase[0].isupper())"
      ],
      "execution_count": 11,
      "outputs": [
        {
          "output_type": "stream",
          "text": [
            "True\n"
          ],
          "name": "stdout"
        }
      ]
    },
    {
      "cell_type": "code",
      "metadata": {
        "colab": {
          "base_uri": "https://localhost:8080/"
        },
        "id": "C6e4Wg6rAonI",
        "outputId": "d1509805-9421-4811-cc72-b9a4133ad8a2"
      },
      "source": [
        "print(phrase.index('d'),end ='\\t')\n",
        "print(phrase[4])"
      ],
      "execution_count": 17,
      "outputs": [
        {
          "output_type": "stream",
          "text": [
            "4\td\n"
          ],
          "name": "stdout"
        }
      ]
    },
    {
      "cell_type": "code",
      "metadata": {
        "colab": {
          "base_uri": "https://localhost:8080/"
        },
        "id": "iRciogRLRyd1",
        "outputId": "e3714897-6fa3-43b9-bde1-783208893cfb"
      },
      "source": [
        "items =[True,\"l\",\"k\",False,\"i\",2.86,\"g\",\"f\",\"e\",\"d\",\"c\",\"b\",\"a\"]\n",
        "print(items[0:9])"
      ],
      "execution_count": 27,
      "outputs": [
        {
          "output_type": "stream",
          "text": [
            "[True, 'l', 'k', False, 'i', 2.86, 'g', 'f', 'e']\n"
          ],
          "name": "stdout"
        }
      ]
    },
    {
      "cell_type": "code",
      "metadata": {
        "id": "k8bO28nGU_1O"
      },
      "source": [
        ""
      ],
      "execution_count": null,
      "outputs": []
    }
  ]
}